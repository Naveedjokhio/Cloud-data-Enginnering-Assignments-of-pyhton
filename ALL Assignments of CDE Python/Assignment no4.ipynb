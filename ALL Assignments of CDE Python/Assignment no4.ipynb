{
 "cells": [
  {
   "cell_type": "markdown",
   "id": "dc924401-1c8f-4c2c-8bf8-8c99af31efe5",
   "metadata": {},
   "source": [
    "# Write a program that accepts a list from user and print the alternate element of list. "
   ]
  },
  {
   "cell_type": "code",
   "execution_count": 1,
   "id": "2795b70d-c9cc-4e8a-a610-940275e9bc8b",
   "metadata": {},
   "outputs": [
    {
     "name": "stdin",
     "output_type": "stream",
     "text": [
      "How many elements do you want to enter?  5\n"
     ]
    },
    {
     "name": "stdout",
     "output_type": "stream",
     "text": [
      "Enter 5 elements:\n"
     ]
    },
    {
     "name": "stdin",
     "output_type": "stream",
     "text": [
      " 12345\n",
      " 44\n",
      " 3\n",
      " 4\n",
      " 5\n"
     ]
    },
    {
     "name": "stdout",
     "output_type": "stream",
     "text": [
      "Alternate elements are:\n",
      "12345\n",
      "3\n",
      "5\n"
     ]
    }
   ],
   "source": [
    "size = int(input(\"How many elements do you want to enter? \"))\n",
    "mylist = []\n",
    "print(f\"Enter {size} elements:\")\n",
    "for _ in range(size):\n",
    "    element = input()\n",
    "    mylist.append(element)\n",
    "print(\"Alternate elements are:\")\n",
    "for i in range(0, size, 2):\n",
    "    print(mylist[i])"
   ]
  },
  {
   "cell_type": "markdown",
   "id": "ffd30c84-b357-462a-b8f5-3a70881c26d6",
   "metadata": {},
   "source": [
    "# Write a program that accepts a list from user. Your program should reverse the content of list and  display it. \n",
    "Do not use reverse() method.  "
   ]
  },
  {
   "cell_type": "code",
   "execution_count": 7,
   "id": "05144f32-4735-45e4-8d0b-400b7ff7d828",
   "metadata": {},
   "outputs": [
    {
     "name": "stdin",
     "output_type": "stream",
     "text": [
      "How many items?  4\n",
      "Item:  43\n",
      "Item:  4\n",
      "Item:  3\n",
      "Item:  43\n"
     ]
    },
    {
     "name": "stdout",
     "output_type": "stream",
     "text": [
      "Reversed list: ['43', '4', '3', '43']\n",
      "Reversed list: ['43', '3', '4', '43']\n"
     ]
    }
   ],
   "source": [
    "n = int(input(\"How many items? \"))\n",
    "lst = [input(\"Item: \") for _ in range(n)]\n",
    "start, end = 0, n - 1\n",
    "while start < end:\n",
    "    lst[start], lst[end] = lst[end], lst[start]\n",
    "    start += 1\n",
    "    end -= 1 \n",
    "    print(\"Reversed list:\", lst)\n"
   ]
  },
  {
   "cell_type": "markdown",
   "id": "746931eb-884d-458f-a0bf-fcb929ead922",
   "metadata": {},
   "source": [
    "# Find and display the largest number of a list without using built-in function max(). Your program"
   ]
  },
  {
   "cell_type": "code",
   "execution_count": 8,
   "id": "05c2d1b1-c934-4e4f-9e8e-214f9d698c00",
   "metadata": {},
   "outputs": [
    {
     "name": "stdin",
     "output_type": "stream",
     "text": [
      "How many items?  3\n",
      "Item:  2\n",
      "Item:  2\n",
      "Item:  33\n"
     ]
    },
    {
     "name": "stdout",
     "output_type": "stream",
     "text": [
      "Rotated list: ['33', '2', '2']\n"
     ]
    }
   ],
   "source": [
    "n = int(input(\"How many items? \"))\n",
    "lst = [input(\"Item: \") for _ in range(n)]\n",
    "rotated = lst[-1:] + lst[:-1]\n",
    "print(\"Rotated list:\", rotated)"
   ]
  },
  {
   "cell_type": "markdown",
   "id": "ababb6f5-9cec-4a41-8abf-aac18dc92784",
   "metadata": {},
   "source": [
    " # Write a program that input a string and ask user to delete a given word from a string.  "
   ]
  },
  {
   "cell_type": "code",
   "execution_count": 14,
   "id": "ab984a07-5601-4866-8ebf-1602edb3a69c",
   "metadata": {},
   "outputs": [
    {
     "name": "stdin",
     "output_type": "stream",
     "text": [
      "Enter a sentence:  my name is kantesh\n",
      "Which word to delete?  my\n"
     ]
    },
    {
     "name": "stdout",
     "output_type": "stream",
     "text": [
      "Updated sentence: name is kantesh\n"
     ]
    }
   ],
   "source": [
    "text = input(\"Enter a sentence: \")\n",
    "word_to_delete = input(\"Which word to delete? \")\n",
    "words = text.split()\n",
    "new_words = [w for w in words if w != word_to_delete]\n",
    "new_text = \" \".join(new_words)\n",
    "print(\"Updated sentence:\", new_text)"
   ]
  },
  {
   "cell_type": "markdown",
   "id": "e087b7b4-0635-4c24-a749-d874f3da9f1f",
   "metadata": {},
   "source": [
    "# Write a program that rotates the element of a list so that the element at the first index moves to the second index, the element in the second index moves to the third index, etc.\n",
    "and the element in the last \n",
    "index moves to the first index.   "
   ]
  },
  {
   "cell_type": "code",
   "execution_count": 16,
   "id": "fd0e7d00-0fd3-438d-acd2-42d598d53eef",
   "metadata": {},
   "outputs": [
    {
     "name": "stdin",
     "output_type": "stream",
     "text": [
      "Enter a sentence:  Kantesh by A car For Naveed\n",
      "Which word to delete?  car\n"
     ]
    },
    {
     "name": "stdout",
     "output_type": "stream",
     "text": [
      "Updated sentence: Kantesh by A For Naveed\n"
     ]
    }
   ],
   "source": [
    "text = input(\"Enter a sentence: \")\n",
    "word_to_delete = input(\"Which word to delete? \")\n",
    "words = text.split()\n",
    "new_words = [w for w in words if w != word_to_delete]\n",
    "new_text = \" \".join(new_words)\n",
    "print(\"Updated sentence:\", new_text)"
   ]
  },
  {
   "cell_type": "markdown",
   "id": "43de8d2b-2332-45e1-b9ec-77818f2b3c58",
   "metadata": {},
   "source": [
    "# Write a program that reads a string from the user containing a date in the form mm/dd/yyyy. It "
   ]
  },
  {
   "cell_type": "code",
   "execution_count": null,
   "id": "f4874679-bad6-4e5f-b7a6-a32902aaf475",
   "metadata": {},
   "outputs": [],
   "source": [
    "date_str = input(\"Enter date (mm/dd/yyyy): \")\n",
    "month, day, year = date_str.split('/')\n",
    "months = {\n",
    "    \"01\": \"January\", \"02\": \"February\", \"03\": \"March\", \"04\": \"April\",\n",
    "    \"05\": \"May\", \"06\": \"June\", \"07\": \"July\", \"08\": \"August\",\n",
    "    \"09\": \"September\", \"10\": \"October\", \"11\": \"November\", \"12\": \"December\"\n",
    "}\n",
    "print(f\"{months[month]} {int(day)}, {year}\")"
   ]
  },
  {
   "cell_type": "markdown",
   "id": "70368687-3abd-4b7e-9f5a-e83d4c65cb58",
   "metadata": {},
   "source": [
    "# Write a program with a function that accepts a string from keyboard and create a new string after converting character of each word capitalized. \n",
    "For instance, if the sentence is \"stop and smell the roses.\" \n",
    "the output should be \"Stop And Smell The Roses"
   ]
  },
  {
   "cell_type": "code",
   "execution_count": 15,
   "id": "d92fc06d-410a-4590-9a66-507f3495dc3e",
   "metadata": {},
   "outputs": [
    {
     "name": "stdin",
     "output_type": "stream",
     "text": [
      "Enter a sentence:  Kantesh by A car For Naveed \n"
     ]
    },
    {
     "name": "stdout",
     "output_type": "stream",
     "text": [
      "Result: Kantesh By A Car For Naveed\n"
     ]
    }
   ],
   "source": [
    "sentence = input(\"Enter a sentence: \")\n",
    "words = sentence.split()\n",
    "capitalized = [w.capitalize() for w in words]\n",
    "new_sentence = \" \".join(capitalized)\n",
    "print(\"Result:\", new_sentence)"
   ]
  },
  {
   "cell_type": "markdown",
   "id": "40d54336-4afe-4170-a4cc-1551c24d5b61",
   "metadata": {},
   "source": [
    "# Find the sum of each row of matrix of size m x n. For example for the following matrix output will be like this"
   ]
  },
  {
   "cell_type": "code",
   "execution_count": 25,
   "id": "7c73dc13-6a2b-4512-a511-b31866770bfc",
   "metadata": {},
   "outputs": [
    {
     "name": "stdin",
     "output_type": "stream",
     "text": [
      "Number of rows?  3\n",
      "Number of columns?  5\n",
      "Enter row 1 numbers:  3\n",
      "Enter row 2 numbers:  2\n",
      "Enter row 3 numbers:  1\n"
     ]
    },
    {
     "name": "stdout",
     "output_type": "stream",
     "text": [
      "Sum of row 1 = 3\n",
      "Sum of row 2 = 2\n",
      "Sum of row 3 = 1\n"
     ]
    }
   ],
   "source": [
    "m = int(input(\"Number of rows? \"))\n",
    "n = int(input(\"Number of columns? \"))\n",
    "matrix = []\n",
    "for i in range(m):\n",
    "    row = list(map(int, input(f\"Enter row {i+1} numbers: \").split()))\n",
    "    matrix.append(row)\n",
    "for i, row in enumerate(matrix, start=1):\n",
    "    print(f\"Sum of row {i} =\", sum(row))"
   ]
  },
  {
   "cell_type": "markdown",
   "id": "b83eea71-92ca-40a1-b9a6-e0011bbd7cc2",
   "metadata": {},
   "source": [
    "# Write a program to add two matrices of size n x m."
   ]
  },
  {
   "cell_type": "code",
   "execution_count": 24,
   "id": "d1a1d3aa-8bfc-4d9a-9160-ad370916a09a",
   "metadata": {},
   "outputs": [
    {
     "name": "stdin",
     "output_type": "stream",
     "text": [
      "Rows?  2\n",
      "Columns?  3\n"
     ]
    },
    {
     "name": "stdout",
     "output_type": "stream",
     "text": [
      "First matrix:\n"
     ]
    },
    {
     "name": "stdin",
     "output_type": "stream",
     "text": [
      " \n",
      " \n"
     ]
    },
    {
     "name": "stdout",
     "output_type": "stream",
     "text": [
      "Second matrix:\n"
     ]
    },
    {
     "name": "stdin",
     "output_type": "stream",
     "text": [
      " \n",
      " \n"
     ]
    },
    {
     "name": "stdout",
     "output_type": "stream",
     "text": [
      "Sum matrix:\n"
     ]
    },
    {
     "ename": "IndexError",
     "evalue": "list index out of range",
     "output_type": "error",
     "traceback": [
      "\u001b[1;31m---------------------------------------------------------------------------\u001b[0m",
      "\u001b[1;31mIndexError\u001b[0m                                Traceback (most recent call last)",
      "Cell \u001b[1;32mIn[24], line 9\u001b[0m\n\u001b[0;32m      7\u001b[0m \u001b[38;5;28mprint\u001b[39m(\u001b[38;5;124m\"\u001b[39m\u001b[38;5;124mSum matrix:\u001b[39m\u001b[38;5;124m\"\u001b[39m)\n\u001b[0;32m      8\u001b[0m \u001b[38;5;28;01mfor\u001b[39;00m i \u001b[38;5;129;01min\u001b[39;00m \u001b[38;5;28mrange\u001b[39m(n):\n\u001b[1;32m----> 9\u001b[0m     row_sum \u001b[38;5;241m=\u001b[39m [A[i][j] \u001b[38;5;241m+\u001b[39m B[i][j] \u001b[38;5;28;01mfor\u001b[39;00m j \u001b[38;5;129;01min\u001b[39;00m \u001b[38;5;28mrange\u001b[39m(m)]\n\u001b[0;32m     10\u001b[0m     \u001b[38;5;28mprint\u001b[39m(\u001b[38;5;124m\"\u001b[39m\u001b[38;5;124m \u001b[39m\u001b[38;5;124m\"\u001b[39m\u001b[38;5;241m.\u001b[39mjoin(\u001b[38;5;28mmap\u001b[39m(\u001b[38;5;28mstr\u001b[39m, row_sum)))\n",
      "\u001b[1;31mIndexError\u001b[0m: list index out of range"
     ]
    }
   ],
   "source": [
    "n = int(input(\"Rows? \"))\n",
    "m = int(input(\"Columns? \"))\n",
    "print(\"First matrix:\")\n",
    "A = [list(map(int, input().split())) for _ in range(n)]\n",
    "print(\"Second matrix:\")\n",
    "B = [list(map(int, input().split())) for _ in range(n)]\n",
    "print(\"Sum matrix:\")\n",
    "for i in range(n):\n",
    "    row_sum = [A[i][j] + B[i][j] for j in range(m)]\n",
    "    print(\" \".join(map(str, row_sum)))"
   ]
  },
  {
   "cell_type": "markdown",
   "id": "60d7f523-9880-4cea-93b7-2fa39aec322e",
   "metadata": {},
   "source": [
    "# Write a program to multiply two matrices"
   ]
  },
  {
   "cell_type": "code",
   "execution_count": 19,
   "id": "eef1e787-9ffe-41de-bdf0-6559a79cafc0",
   "metadata": {},
   "outputs": [
    {
     "name": "stdin",
     "output_type": "stream",
     "text": [
      "First matrix rows?  3\n",
      "First matrix cols?  3\n"
     ]
    },
    {
     "name": "stdout",
     "output_type": "stream",
     "text": [
      "Matrix A:\n"
     ]
    },
    {
     "name": "stdin",
     "output_type": "stream",
     "text": [
      " 2\n",
      " 3\n",
      " 4\n",
      "Second matrix rows?  2\n",
      "Second matrix cols?  3\n"
     ]
    },
    {
     "name": "stdout",
     "output_type": "stream",
     "text": [
      "Matrix B:\n"
     ]
    },
    {
     "name": "stdin",
     "output_type": "stream",
     "text": [
      " 2\n",
      " 3\n"
     ]
    },
    {
     "name": "stdout",
     "output_type": "stream",
     "text": [
      "Cannot multiply: columns of A must equal rows of B\n"
     ]
    }
   ],
   "source": [
    "r1 = int(input(\"First matrix rows? \"))\n",
    "c1 = int(input(\"First matrix cols? \"))\n",
    "print(\"Matrix A:\")\n",
    "A = [list(map(int, input().split())) for _ in range(r1)]\n",
    "r2 = int(input(\"Second matrix rows? \"))\n",
    "c2 = int(input(\"Second matrix cols? \"))\n",
    "print(\"Matrix B:\")\n",
    "B = [list(map(int, input().split())) for _ in range(r2)]\n",
    "if c1 != r2:\n",
    "    print(\"Cannot multiply: columns of A must equal rows of B\")\n",
    "else:\n",
    "    result = [[0]*c2 for _ in range(r1)]\n",
    "    for i in range(r1):\n",
    "        for j in range(c2):\n",
    "            for k in range(c1):\n",
    "                result[i][j] += A[i][k] * B[k][j]\n",
    "    print(\"Product matrix:\")\n",
    "    for row in result:\n",
    "        print(\" \".join(map(str, row)))"
   ]
  },
  {
   "cell_type": "code",
   "execution_count": null,
   "id": "40dbbf94-3fc9-4020-921d-ece0aee09f13",
   "metadata": {},
   "outputs": [],
   "source": []
  }
 ],
 "metadata": {
  "kernelspec": {
   "display_name": "Python 3 (ipykernel)",
   "language": "python",
   "name": "python3"
  },
  "language_info": {
   "codemirror_mode": {
    "name": "ipython",
    "version": 3
   },
   "file_extension": ".py",
   "mimetype": "text/x-python",
   "name": "python",
   "nbconvert_exporter": "python",
   "pygments_lexer": "ipython3",
   "version": "3.12.7"
  }
 },
 "nbformat": 4,
 "nbformat_minor": 5
}
