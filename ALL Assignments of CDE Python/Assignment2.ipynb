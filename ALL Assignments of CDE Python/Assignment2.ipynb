{
 "cells": [
  {
   "cell_type": "raw",
   "id": "4f2ee5c6-1719-4238-aa68-8dd3e1ed1ce7",
   "metadata": {},
   "source": [
    "A company decided to give bonus of 5% to employee if his/her year of service is more than 5 years. Ask user for their salary\n",
    "and year of service and print the net bonus amount."
   ]
  },
  {
   "cell_type": "code",
   "execution_count": 1,
   "id": "17097790-ebcf-478d-80fa-fcac12430279",
   "metadata": {},
   "outputs": [
    {
     "name": "stdin",
     "output_type": "stream",
     "text": [
      "Tell me your Salary :  50000\n",
      "Tell me year of service :  6\n"
     ]
    },
    {
     "name": "stdout",
     "output_type": "stream",
     "text": [
      "Your Bonus = :  2500.0\n"
     ]
    }
   ],
   "source": [
    "Salary = int(input(\"Tell me your Salary : \"))\n",
    "yearofService = int(input(\"Tell me year of service : \"))\n",
    "if(yearofService > 5):\n",
    "    print(\"Your Bonus = : \",(5/100*Salary))\n",
    "else:\n",
    "\n",
    "     print(\"You are not eligible for bonus as you have less service years.\")"
   ]
  },
  {
   "cell_type": "raw",
   "id": "09c1c4df-dbee-47d0-8f74-2ae56d90e461",
   "metadata": {},
   "source": [
    "Write a program to check whether a person is eligible for voting or not. (accept age from user) if age is greater than 17 eligible otherwise not eligible"
   ]
  },
  {
   "cell_type": "code",
   "execution_count": 2,
   "id": "81f7cac7-4664-48e7-90bc-dcce96c57fa2",
   "metadata": {},
   "outputs": [
    {
     "name": "stdin",
     "output_type": "stream",
     "text": [
      "Tell me your age :  54\n"
     ]
    },
    {
     "name": "stdout",
     "output_type": "stream",
     "text": [
      "you are eligible for voting \n"
     ]
    }
   ],
   "source": [
    "User_age = int(input(\"Tell me your age : \"))\n",
    "if(User_age > 17):\n",
    "    print(\"you are eligible for voting \")\n",
    "else :\n",
    "    print(\"you are not eligible fo voting \") "
   ]
  },
  {
   "cell_type": "raw",
   "id": "008d49a4-f0e3-430f-975e-d54a39a8ded1",
   "metadata": {},
   "source": [
    "Write a program to check whether a number entered by user is even or odd."
   ]
  },
  {
   "cell_type": "code",
   "execution_count": 3,
   "id": "5428cf75-0c8a-4362-9065-212e6eb46e5e",
   "metadata": {},
   "outputs": [
    {
     "name": "stdin",
     "output_type": "stream",
     "text": [
      "Enter the number you want to check :  400\n"
     ]
    },
    {
     "name": "stdout",
     "output_type": "stream",
     "text": [
      "Your number is even \n"
     ]
    }
   ],
   "source": [
    "Num = int(input(\"Enter the number you want to check : \"))\n",
    "if Num<=0:\n",
    "    print(\"enter the correct number or it is less than 0 \")\n",
    "elif Num%2==0:\n",
    "    print(\"Your number is even \")\n",
    "else :\n",
    "    print(\"Your number is Odd \")"
   ]
  },
  {
   "cell_type": "raw",
   "id": "b8f0d179-f17f-4650-87ba-3cd135e314a1",
   "metadata": {},
   "source": [
    "Write a program to check whether a number is divisible by 7 or not. Show Answer"
   ]
  },
  {
   "cell_type": "code",
   "execution_count": null,
   "id": "c65b45fb-1d2d-4382-8b99-3221d0e7a6d8",
   "metadata": {},
   "outputs": [],
   "source": [
    "num = int(input(\"Enter the number : \"))\n",
    "if num%7==0:\n",
    "    print(\"This number is divisible of 7 and num is : \" ,num)\n",
    "else :\n",
    "    print(\"This number is not divisible of 7 and num is : \",num)"
   ]
  },
  {
   "cell_type": "raw",
   "id": "99f3b2c4-e555-4394-b96b-346142529001",
   "metadata": {},
   "source": [
    "Write a program to display \"Hello\" if a number entered by user is a multiple of five , otherwise print \"Bye\"."
   ]
  },
  {
   "cell_type": "code",
   "execution_count": null,
   "id": "a846daa7-9611-49b4-9540-e110fb2b02a7",
   "metadata": {},
   "outputs": [],
   "source": [
    "User_num = int(input(\"Ente the number :\"))\n",
    "if User_num%5==0 :\n",
    "    print(\"Hello\")\n",
    "else:\n",
    "    print(\"Bye\")"
   ]
  },
  {
   "cell_type": "raw",
   "id": "75b20387-806b-4ec4-a6ce-c1c55a831de9",
   "metadata": {},
   "source": [
    "Write a program to display the last digit of a number."
   ]
  },
  {
   "cell_type": "code",
   "execution_count": null,
   "id": "19fbee69-4e53-4e37-bf85-fe0d92c37ab4",
   "metadata": {},
   "outputs": [],
   "source": [
    "num = int(input(\"Enter the number : \"))\n",
    "last_digit = num%10\n",
    "print(\"Last Digit is : \", last_digit)"
   ]
  },
  {
   "cell_type": "raw",
   "id": "878f5446-8f37-4ba1-8921-28a006451e4c",
   "metadata": {},
   "source": [
    "Take values of length and breadth of a rectangle from user and print if it is square or rectangle."
   ]
  },
  {
   "cell_type": "code",
   "execution_count": null,
   "id": "80fd53aa-60dc-4777-8b97-a797f5767f23",
   "metadata": {},
   "outputs": [],
   "source": [
    "length = int(input(\"Enter the length : \"))\n",
    "Breadth = int(input(\"Enter the Breadth : \"))\n",
    "if length == Breadth :\n",
    "    print(\"it is a square \")\n",
    "else:\n",
    "    print(\"it is a rectangle \") "
   ]
  },
  {
   "cell_type": "raw",
   "id": "72a07c8a-d1cc-4377-8988-1fff2219daf5",
   "metadata": {},
   "source": [
    "Take two int values from user and print greatest among them."
   ]
  },
  {
   "cell_type": "code",
   "execution_count": null,
   "id": "d0415e3c-9c61-4feb-aedc-f0e74bd71e85",
   "metadata": {},
   "outputs": [],
   "source": [
    "num1 = int(input(\"Enter the num1 : \"))\n",
    "num2 = int(input(\"Enter the num2 : \"))\n",
    "if num1>num2:\n",
    "    print(\"Num1 is greatest : \",num1)\n",
    "else:\n",
    "    print(\"Num2 is the greatest : \",num2)"
   ]
  },
  {
   "cell_type": "raw",
   "id": "7c4893dd-afb9-43f1-9052-9de71b64ef22",
   "metadata": {},
   "source": [
    "A shop will give discount of 10% if the cost of purchased quantity is more than 1000. Ask user for quantity Suppose, one unit will cost 100. Judge and print total cost for user."
   ]
  },
  {
   "cell_type": "code",
   "execution_count": null,
   "id": "a2db38c1-b596-4915-bb45-3edef15dedc8",
   "metadata": {},
   "outputs": [],
   "source": [
    "Quantity = int(input(\"Tell me the quantity ,how many u want to purchase : \"))\n",
    "PriceOfItem = 100\n",
    "totalPrice = Quantity*100\n",
    "if totalPrice > 1000:\n",
    "    print(\"you got a 10% of discount : \",10/100*totalPrice)\n",
    "else :\n",
    "    print(\"thnQ for purchasing \") \n"
   ]
  },
  {
   "cell_type": "raw",
   "id": "5ce1cc97-59cb-4514-ba3c-f98fce2372e6",
   "metadata": {},
   "source": [
    "A school has following rules for grading system:\n",
    "a. Below 25 - F\n",
    "b. 25 to 45 - E\n",
    "c. 45 to 50 - D\n",
    "d. 50 to 60 - C\n",
    "e. 60 to 80 - B\n",
    "f. Above 80 - A\n",
    "Ask user to enter marks and print the corresponding grade."
   ]
  },
  {
   "cell_type": "code",
   "execution_count": null,
   "id": "2d44c72d-62bb-48c6-9aa7-628d21462192",
   "metadata": {},
   "outputs": [],
   "source": [
    "Marks = int(input(\"Enter your Marks : \"))\n",
    "if Marks > 80 and Marks<=100:\n",
    "    print(\"Your grade is 'A' \")\n",
    "elif Marks >60 and Marks <=80 :\n",
    "    print(\"Your grade is 'B' \")\n",
    "elif Marks > 50 and Marks <=60 :\n",
    "    print(\"Your grade is 'C' \")\n",
    "elif Marks > 45 and Marks <=50 :\n",
    "    print(\"Your grade is 'D' \")\n",
    "elif Marks > 25 and Marks <=45 :\n",
    "    print(\"Your grade is 'E' \")\n",
    "elif Marks < 25 :\n",
    "    print(\"Your grade is 'F' \")\n",
    "    "
   ]
  },
  {
   "cell_type": "raw",
   "id": "bd2b16b2-7f99-4d6e-a743-9467328187fb",
   "metadata": {},
   "source": [
    "A student will not be allowed to sit in exam if his/her attendence is less than 75%.\n",
    "Take following input from user\n",
    "Number of classes held\n",
    "Number of classes attended.\n",
    "And print percentage of class attended\n",
    "Is student is allowed to sit in exam or not."
   ]
  },
  {
   "cell_type": "code",
   "execution_count": null,
   "id": "2278ee35-f46e-479a-a1c4-6145d38d2db8",
   "metadata": {},
   "outputs": [],
   "source": [
    "NumberoOfHeld = int(input(\"Enter the  number of classes held : \")) \n",
    "NumberoOfAttended = int(input(\"Enter the  number of classes  attended : \"))\n",
    "Percentage = NumberoOfAttended/NumberoOfHeld*100\n",
    "if Percentage > 75 :\n",
    "    print(\"you are allowed to sit in exam and your attendance percentage is : \",Percentage)\n",
    "else :\n",
    "    print(\"You are not allowed to sit in the exam your attendance pecentage is less than 75 \",Percentage)  "
   ]
  },
  {
   "cell_type": "raw",
   "id": "680f4515-a579-4b03-a913-1647bb623e09",
   "metadata": {},
   "source": [
    "Modify the above question to allow student to sit if he/she has medical cause.\n",
    "Ask user if he/she has medical cause or not ( 'Y' or 'N' ) and print accordingly."
   ]
  },
  {
   "cell_type": "code",
   "execution_count": 4,
   "id": "78c19035-9674-4714-b3f4-4fb8cff3698d",
   "metadata": {},
   "outputs": [
    {
     "name": "stdin",
     "output_type": "stream",
     "text": [
      "Enter your attendance percentage :  66\n",
      "Do you have a medical cause ? (Y/N):  77\n"
     ]
    },
    {
     "name": "stdout",
     "output_type": "stream",
     "text": [
      "Not allowed to sit in exam\n"
     ]
    }
   ],
   "source": [
    "attendance = int(input(\"Enter your attendance percentage : \"))\n",
    "medical = input(\"Do you have a medical cause ? (Y/N): \")\n",
    "\n",
    "if attendance>=75 or medical.upper() == 'Y':\n",
    "    print(\"Allowed to sit in exam\")\n",
    "else:\n",
    "    print(\"Not allowed to sit in exam\")"
   ]
  },
  {
   "cell_type": "raw",
   "id": "a9647472-3bec-4906-baff-e63215061ff6",
   "metadata": {},
   "source": [
    "Write a program to check if a year is leap year or not.\n",
    "If a year is divisible by 4 then it is leap year but if the year is century year like 2000, 1900, 2100 then it must be divisible by 400."
   ]
  },
  {
   "cell_type": "code",
   "execution_count": null,
   "id": "4efd1c46-aaa3-43d8-8877-9c54ff04b6e8",
   "metadata": {},
   "outputs": [],
   "source": [
    "Year = int(input(\"Ente the year you want to check : \"))\n",
    "if ((Year%400==0) or (Year%4==0 and Year%100 != 0 )):\n",
    "    print(\"Your Year is a Leap Year \")\n",
    "else :\n",
    "    print(\"Your Year is not a Leap Year \" )"
   ]
  },
  {
   "cell_type": "raw",
   "id": "814d06b8-9513-4a73-bbbf-2abd5d4e896f",
   "metadata": {},
   "source": [
    "Ask user to enter age, gender ( M or F ), marital status ( Y or N ) and then using following rules print their place of service.\n",
    "if employee is female, then she will work only in urban areas.\n",
    "if employee is a male and age is in between 20 to 40 then he may work in anywhere\n",
    "if employee is male and age is in between 40 t0 60 then he will work in urban areas only.\n",
    "And any other input of age should print \"ERROR\""
   ]
  },
  {
   "cell_type": "code",
   "execution_count": null,
   "id": "9be8394b-8a43-45c8-a8b4-f984505d3efd",
   "metadata": {},
   "outputs": [],
   "source": [
    "age = int(input(\"Enter the age : \"))\n",
    "gender = input(\"'M' or 'F' : \")\n",
    "Martial_status = input(\"'Yes' or 'No' :\")\n",
    "if(gender.upper() == \"F\"):\n",
    "    print(\"you will work only in urban areas \")\n",
    "elif (gender.upper() == \"M\"):\n",
    "    if(20<= age <= 40):\n",
    "        print(\"U may work in anywhere \")\n",
    "    elif(age > 40 and age <60):\n",
    "        print(\" U will work in urban areas only \")\n",
    "else :\n",
    "    print(\"ERROR\")\n",
    "    "
   ]
  },
  {
   "cell_type": "raw",
   "id": "d7e769f4-7e53-4199-a9cf-95a4340b0952",
   "metadata": {},
   "source": [
    "Write a program to calculate the electricity bill (accept number of unit from user) according to the following criteria : Unit Price\n",
    "uptp 100 units no charge Next 200 units Rs 5 per unit After 200 units Rs 10 per unit (For example if input unit is 350 than total bill amount is Rs.3500 (For example if input unit is 97 than total bill amount is Rs.0 (For example if input unit is 150 than total bill amount is Rs.750\n",
    "Take input of age of 3 people by user and determine oldest and youngest among them."
   ]
  },
  {
   "cell_type": "code",
   "execution_count": null,
   "id": "6e6ef996-d127-4236-a312-53322475a31b",
   "metadata": {},
   "outputs": [],
   "source": [
    "units = int(input(\"Tell me Your units : \"))\n",
    "if units <=100 :\n",
    "    print(\"There is no bill till 100 units so no charges for it \")\n",
    "elif units >=100 and units <=200 :\n",
    "    print(\"your bill is :\",units*5)\n",
    "elif units > 200 :\n",
    "    print(\"your bill would be : \",units*10)"
   ]
  },
  {
   "cell_type": "code",
   "execution_count": null,
   "id": "da76ac77-08a5-4e93-999e-bd907ceeb7e1",
   "metadata": {},
   "outputs": [],
   "source": []
  },
  {
   "cell_type": "code",
   "execution_count": null,
   "id": "075f77e7-36c3-46e6-83ab-0281f2bea4f0",
   "metadata": {},
   "outputs": [],
   "source": []
  },
  {
   "cell_type": "code",
   "execution_count": null,
   "id": "e97a3f69-8ecd-4be7-ab78-4bae4b957bc1",
   "metadata": {},
   "outputs": [],
   "source": []
  },
  {
   "cell_type": "code",
   "execution_count": null,
   "id": "2675d654-6130-49a7-905b-55f24722fa30",
   "metadata": {},
   "outputs": [],
   "source": []
  },
  {
   "cell_type": "code",
   "execution_count": null,
   "id": "06eafaca-3cc6-4b93-be26-0d6921e19c92",
   "metadata": {},
   "outputs": [],
   "source": []
  },
  {
   "cell_type": "code",
   "execution_count": null,
   "id": "a8bc3c39-d913-4577-8756-3571885040be",
   "metadata": {},
   "outputs": [],
   "source": []
  }
 ],
 "metadata": {
  "kernelspec": {
   "display_name": "Python 3 (ipykernel)",
   "language": "python",
   "name": "python3"
  },
  "language_info": {
   "codemirror_mode": {
    "name": "ipython",
    "version": 3
   },
   "file_extension": ".py",
   "mimetype": "text/x-python",
   "name": "python",
   "nbconvert_exporter": "python",
   "pygments_lexer": "ipython3",
   "version": "3.12.7"
  }
 },
 "nbformat": 4,
 "nbformat_minor": 5
}
