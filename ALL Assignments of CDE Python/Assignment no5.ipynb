{
 "cells": [
  {
   "cell_type": "markdown",
   "id": "8538d081-dc31-4861-9a65-79bfbb6a4216",
   "metadata": {},
   "source": [
    "# Write a Python program to print the numbers from 1 to 10 using a for loop.  "
   ]
  },
  {
   "cell_type": "code",
   "execution_count": 2,
   "id": "d1c3f405-8fe7-4c25-b1ee-23e6cc6a218c",
   "metadata": {},
   "outputs": [
    {
     "name": "stdout",
     "output_type": "stream",
     "text": [
      "1\n",
      "2\n",
      "3\n",
      "4\n",
      "5\n",
      "6\n",
      "7\n",
      "8\n",
      "9\n",
      "10\n"
     ]
    }
   ],
   "source": [
    "for i in range(1,11):\n",
    "    print(i)"
   ]
  },
  {
   "cell_type": "markdown",
   "id": "1750a09b-c764-4f0d-9055-25e0b206c5d4",
   "metadata": {},
   "source": [
    "# Write a Python program to print the numbers from 20 to 1 using a while loop. "
   ]
  },
  {
   "cell_type": "code",
   "execution_count": 99,
   "id": "0924a4aa-32f5-4526-b11f-b8f8a59e24f7",
   "metadata": {},
   "outputs": [
    {
     "name": "stdout",
     "output_type": "stream",
     "text": [
      "20\n",
      "19\n",
      "18\n",
      "17\n",
      "16\n",
      "15\n",
      "14\n",
      "13\n",
      "12\n",
      "11\n",
      "10\n",
      "9\n",
      "8\n",
      "7\n",
      "6\n",
      "5\n",
      "4\n",
      "3\n",
      "2\n",
      "1\n"
     ]
    }
   ],
   "source": [
    "num = 20\n",
    "while num >= 1:\n",
    "    print(num)\n",
    "    num -= 1"
   ]
  },
  {
   "cell_type": "markdown",
   "id": "269c80ee-25fc-4753-8987-b48e07bfdc6c",
   "metadata": {},
   "source": [
    "# Write a program to print even numbers from 1 to 10. "
   ]
  },
  {
   "cell_type": "code",
   "execution_count": 10,
   "id": "c6d9c493-8f97-4d89-b586-5ac8db8a4666",
   "metadata": {},
   "outputs": [
    {
     "name": "stdout",
     "output_type": "stream",
     "text": [
      "2\n",
      "4\n",
      "6\n",
      "8\n"
     ]
    }
   ],
   "source": [
    "for i in range(2,10,2):\n",
    "    print(i)"
   ]
  },
  {
   "cell_type": "markdown",
   "id": "5789835b-e439-4119-b34f-1b95edb3ecbe",
   "metadata": {},
   "source": [
    "# Write a program that prompts the user to enter a number n and prints all the numbers from 1 to n"
   ]
  },
  {
   "cell_type": "code",
   "execution_count": 13,
   "id": "86ca463b-3a8d-43a8-837b-fec8b377ba86",
   "metadata": {},
   "outputs": [
    {
     "name": "stdin",
     "output_type": "stream",
     "text": [
      "Enter a number  15\n"
     ]
    },
    {
     "name": "stdout",
     "output_type": "stream",
     "text": [
      "1\n",
      "2\n",
      "3\n",
      "4\n",
      "5\n",
      "6\n",
      "7\n",
      "8\n",
      "9\n",
      "10\n",
      "11\n",
      "12\n",
      "13\n",
      "14\n"
     ]
    }
   ],
   "source": [
    "num=int(input(\"Enter a number \"))\n",
    "for i in range (1,num,1):\n",
    "    print(i)"
   ]
  },
  {
   "cell_type": "markdown",
   "id": "f61ce542-4efa-404a-a003-afe4da039f07",
   "metadata": {},
   "source": [
    "# Write a program that prompts the user to enter a number n, and then prints all the odd numbers between 1 and n.   "
   ]
  },
  {
   "cell_type": "code",
   "execution_count": 15,
   "id": "b1ebb5d0-69c8-446c-839a-18a43af761d7",
   "metadata": {},
   "outputs": [
    {
     "name": "stdin",
     "output_type": "stream",
     "text": [
      "enter your number 50\n"
     ]
    },
    {
     "name": "stdout",
     "output_type": "stream",
     "text": [
      "1\n",
      "3\n",
      "5\n",
      "7\n",
      "9\n",
      "11\n",
      "13\n",
      "15\n",
      "17\n",
      "19\n",
      "21\n",
      "23\n",
      "25\n",
      "27\n",
      "29\n",
      "31\n",
      "33\n",
      "35\n",
      "37\n",
      "39\n",
      "41\n",
      "43\n",
      "45\n",
      "47\n",
      "49\n"
     ]
    }
   ],
   "source": [
    "num=int(input(\"enter your number\"))\n",
    "for i in range(1,num,2):\n",
    "    print(i)"
   ]
  },
  {
   "cell_type": "markdown",
   "id": "f914af39-9cfe-420b-9b6b-913dac807223",
   "metadata": {},
   "source": [
    "# Write a program that prints 'Happy Birthday!' five times on screen. "
   ]
  },
  {
   "cell_type": "code",
   "execution_count": 20,
   "id": "ca70ad88-7889-4139-8866-aff84dfe166b",
   "metadata": {},
   "outputs": [
    {
     "name": "stdout",
     "output_type": "stream",
     "text": [
      "Happy Birthday!\n",
      "Happy Birthday!\n",
      "Happy Birthday!\n",
      "Happy Birthday!\n",
      "Happy Birthday!\n"
     ]
    }
   ],
   "source": [
    "for i in range(1,6,1):\n",
    "    print(\"Happy Birthday!\")"
   ]
  },
  {
   "cell_type": "markdown",
   "id": "3eb90c45-f72b-4fcd-a2ef-956566b752e1",
   "metadata": {},
   "source": [
    "# Write a program that takes a number n as input from the user and generates the first n terms of the series formed by squaring the natural numbers. "
   ]
  },
  {
   "cell_type": "code",
   "execution_count": 29,
   "id": "4b3d5d0b-d462-4961-b53b-763949371952",
   "metadata": {},
   "outputs": [
    {
     "name": "stdin",
     "output_type": "stream",
     "text": [
      "Enter the number to make Sqaring 7\n"
     ]
    },
    {
     "name": "stdout",
     "output_type": "stream",
     "text": [
      "1\n",
      "4\n",
      "9\n",
      "16\n",
      "25\n",
      "36\n",
      "49\n"
     ]
    }
   ],
   "source": [
    "num=int(input(\"Enter the number to make Sqaring\"))\n",
    "for i in range(1,num+1):\n",
    "    print(i**2)"
   ]
  },
  {
   "cell_type": "markdown",
   "id": "45d34de2-9889-4fc8-bdc7-990950dc2caf",
   "metadata": {},
   "source": [
    "# Write a program that prompts the user to input a number and prints its multiplication table. "
   ]
  },
  {
   "cell_type": "code",
   "execution_count": 44,
   "id": "1ae44af8-993c-46ee-9d32-f222772687df",
   "metadata": {},
   "outputs": [
    {
     "name": "stdin",
     "output_type": "stream",
     "text": [
      "Enter a number to Creat a table 5\n"
     ]
    },
    {
     "name": "stdout",
     "output_type": "stream",
     "text": [
      "Creat a Number table 5\n",
      "5 X 1 = 5\n",
      "5 X 2 = 10\n",
      "5 X 3 = 15\n",
      "5 X 4 = 20\n",
      "5 X 5 = 25\n",
      "5 X 6 = 30\n",
      "5 X 7 = 35\n",
      "5 X 8 = 40\n",
      "5 X 9 = 45\n",
      "5 X 10 = 50\n"
     ]
    }
   ],
   "source": [
    "Table=int(input(\"Enter a number to Creat a table\"))\n",
    "print(f\"Creat a Number table {Table}\")\n",
    "for i in range(1,11):\n",
    "    print(f\"{Table} X {i} = {Table*i}\")"
   ]
  },
  {
   "cell_type": "markdown",
   "id": "4b9819db-31ac-43bd-b348-7dcb67bf6efe",
   "metadata": {},
   "source": [
    "# Write a Python program to print the first 8 terms of an arithmetic progression starting with 3 and having a common difference of 4. \n",
    "The program should output the following sequence: \n",
    "3 7 11 15 19 23 27 31"
   ]
  },
  {
   "cell_type": "code",
   "execution_count": 52,
   "id": "c0b09275-83d9-484f-8aa5-3f4402280a3e",
   "metadata": {},
   "outputs": [
    {
     "name": "stdout",
     "output_type": "stream",
     "text": [
      "3\n",
      "7\n",
      "11\n",
      "15\n",
      "19\n",
      "23\n",
      "27\n",
      "31\n"
     ]
    }
   ],
   "source": [
    "num=31\n",
    "for i in range(3,num+1,4):\n",
    "    print(i)\n",
    "    "
   ]
  },
  {
   "cell_type": "markdown",
   "id": "375816bc-8a8c-44e4-8a4e-ec0c6cf4633d",
   "metadata": {},
   "source": [
    "# Write a Python program to print the first 6 terms of a geometric sequence starting with 2 and having a common ratio of 3. \n",
    "The program should output the following sequence:2 6 18 54 162 486"
   ]
  },
  {
   "cell_type": "code",
   "execution_count": 75,
   "id": "9fa6b0f5-0525-44f0-9cb0-2ffebfd32871",
   "metadata": {},
   "outputs": [
    {
     "name": "stdout",
     "output_type": "stream",
     "text": [
      "first 6 trems of the GS:\n",
      "2 6 18 54 162 486 "
     ]
    }
   ],
   "source": [
    "a=2\n",
    "b=3\n",
    "print(\"first 6 trems of the GS:\")\n",
    "for i in range(6):\n",
    "    trem=a*(b**i)\n",
    "    print(trem,end=\" \")"
   ]
  },
  {
   "cell_type": "markdown",
   "id": "f4216287-cc9e-425f-9cdb-409213941171",
   "metadata": {},
   "source": [
    "# Write a program that asks the user for a positive integer value. The program should calculate the sum of all the integers from 1 up to the number entered. For example, if \n",
    "the user enters 20, the loop will find the sum of 1, 2, 3, 4, ... 20. "
   ]
  },
  {
   "cell_type": "code",
   "execution_count": 92,
   "id": "d8e68959-30c6-4c8f-bb3c-1e71607c84f5",
   "metadata": {},
   "outputs": [
    {
     "name": "stdin",
     "output_type": "stream",
     "text": [
      "Write a positive integer value 5\n"
     ]
    },
    {
     "name": "stdout",
     "output_type": "stream",
     "text": [
      "15\n"
     ]
    }
   ],
   "source": [
    "Num=int(input(\"Write a positive integer value\"))\n",
    "sum = 0\n",
    "for i in range(Num+1):\n",
    "    sum+=i\n",
    "print(sum)\n"
   ]
  },
  {
   "cell_type": "markdown",
   "id": "2b751f3a-6f7d-4fb0-a89d-5daa43566587",
   "metadata": {},
   "source": [
    "# write a program that takes a positive integer N as input and calculates the sum of the reciprocals of all numbers from 1 up to N. \n",
    "The program should display the final sum. \n",
    "Output of the program should be like: \n",
    "Enter a positive integer: 5 \n",
    "The sum of reciprocals from 1 to 5 is: 2.28   "
   ]
  },
  {
   "cell_type": "code",
   "execution_count": 98,
   "id": "0d3a0e6d-a34e-4867-ab6b-c95a210a20d0",
   "metadata": {},
   "outputs": [
    {
     "name": "stdin",
     "output_type": "stream",
     "text": [
      "Enter a positive integer:  2\n"
     ]
    },
    {
     "name": "stdout",
     "output_type": "stream",
     "text": [
      "The sum of reciprocals from 1 to 2 is: 1.50\n"
     ]
    }
   ],
   "source": [
    "N = int(input(\"Enter a positive integer: \"))\n",
    "if N <= 0:\n",
    "    print(\"Please enter a positive integer.\")\n",
    "else:\n",
    "    reciprocal_sum = 0\n",
    "    for i in range(1, N + 1):\n",
    "        reciprocal_sum += 1 / i\n",
    "\n",
    "    print(f\"The sum of reciprocals from 1 to {N} is: {reciprocal_sum:.2f}\")"
   ]
  },
  {
   "cell_type": "markdown",
   "id": "d7931c64-069a-4321-ab4a-49e4f3c78ce6",
   "metadata": {},
   "source": [
    "# 3. Write a program that prompts the user to enter a number and repeats this process 5  times.\n",
    "The program should accumulate the numbers entered and then display the final \n",
    "running total. \n",
    "Sample Output: \n",
    "Enter a number: 10 \n",
    "Enter a number: 15 \n",
    "Enter a number: 35 \n",
    "Enter a number: 40 \n",
    "Enter a number: 50 \n",
    "The final running total is: 150"
   ]
  },
  {
   "cell_type": "code",
   "execution_count": 97,
   "id": "d0d18364-6c1a-44d2-a335-bcc178d4ced4",
   "metadata": {},
   "outputs": [
    {
     "name": "stdin",
     "output_type": "stream",
     "text": [
      "Enter number 1:  5\n"
     ]
    },
    {
     "name": "stdout",
     "output_type": "stream",
     "text": [
      "You entered: 5\n"
     ]
    },
    {
     "name": "stdin",
     "output_type": "stream",
     "text": [
      "Enter number 2:  6\n"
     ]
    },
    {
     "name": "stdout",
     "output_type": "stream",
     "text": [
      "You entered: 6\n"
     ]
    },
    {
     "name": "stdin",
     "output_type": "stream",
     "text": [
      "Enter number 3:  7\n"
     ]
    },
    {
     "name": "stdout",
     "output_type": "stream",
     "text": [
      "You entered: 7\n"
     ]
    },
    {
     "name": "stdin",
     "output_type": "stream",
     "text": [
      "Enter number 4:  4\n"
     ]
    },
    {
     "name": "stdout",
     "output_type": "stream",
     "text": [
      "You entered: 4\n"
     ]
    },
    {
     "name": "stdin",
     "output_type": "stream",
     "text": [
      "Enter number 5:  7\n"
     ]
    },
    {
     "name": "stdout",
     "output_type": "stream",
     "text": [
      "You entered: 7\n"
     ]
    }
   ],
   "source": [
    "for i in range(5):\n",
    "    number = input(f\"Enter number {i+1}: \")\n",
    "    print(f\"You entered: {number}\")"
   ]
  },
  {
   "cell_type": "markdown",
   "id": "c84b52ca-f314-4cdd-b273-62594e32d067",
   "metadata": {},
   "source": [
    "# Write a program that prompts the user to enter a positive integer and calculates its factorial.\n",
    "The factorial of a positive integer 'n' is denoted as 'n!' and is calculated by \n",
    "multiplying all the integers from 1 to 'n' together. For example, the factorial of 5 \n",
    "(denoted as 5!) is calculated as 1 x 2 x 3 x 4 x 5. \n",
    "The program should display the factorial value if the input is a positive number, or \n",
    "display a message stating that the factorial does not exist for negative numbers. \n",
    "Additionally, for an input of zero, the program should output that the factorial of 0 is 1. "
   ]
  },
  {
   "cell_type": "code",
   "execution_count": null,
   "id": "5d8cc0db-2f0c-4d28-a920-737bf499f2a2",
   "metadata": {},
   "outputs": [],
   "source": [
    "num = int(input(\"Enter a number: \"))\n",
    "if num < 0:\n",
    "    print(\"Sorry, factorial does not exist for negative numbers.\")\n",
    "elif num == 0:\n",
    "    print(\"The factorial of 0 is 1.\")\n",
    "else:\n",
    "    factorial = 1\n",
    "    for i in range(1, num + 1):\n",
    "        factorial *= i\n",
    "    print(f\"The factorial of {num} is {factorial}.\")"
   ]
  },
  {
   "cell_type": "markdown",
   "id": "535334dc-f48c-413a-af9c-f439ad62a652",
   "metadata": {},
   "source": [
    "# Write a Python program that prompts the user to enter a base number and an exponent, and then calculates the power of the base to the exponent. \n",
    "The program \n",
    "should not use the exponentiation operator (**) or the math.pow() function. The \n",
    "program should handle both positive and negative exponents.   "
   ]
  },
  {
   "cell_type": "code",
   "execution_count": null,
   "id": "e5b7734a-360a-43c5-be75-ae0545b96108",
   "metadata": {},
   "outputs": [],
   "source": [
    "base = float(input(\"Enter the base number: \"))\n",
    "exponent = int(input(\"Enter the exponent: \"))\n",
    "result = 1\n",
    "if exponent > 0:\n",
    "    for i in range(exponent):\n",
    "        result *= base\n",
    "elif exponent < 0:\n",
    "    for i in range(-exponent):\n",
    "        result *= base\n",
    "    result = 1 / result\n",
    "else:\n",
    "    result = 1\n",
    "print(f\"{base} raised to the power of {exponent} is {result}\")"
   ]
  }
 ],
 "metadata": {
  "kernelspec": {
   "display_name": "Python 3 (ipykernel)",
   "language": "python",
   "name": "python3"
  },
  "language_info": {
   "codemirror_mode": {
    "name": "ipython",
    "version": 3
   },
   "file_extension": ".py",
   "mimetype": "text/x-python",
   "name": "python",
   "nbconvert_exporter": "python",
   "pygments_lexer": "ipython3",
   "version": "3.12.7"
  }
 },
 "nbformat": 4,
 "nbformat_minor": 5
}
