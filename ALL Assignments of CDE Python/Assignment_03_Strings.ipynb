{
 "cells": [
  {
   "cell_type": "code",
   "execution_count": null,
   "id": "1df2c8fd-e8fb-441a-9906-e6db287f9c80",
   "metadata": {},
   "outputs": [],
   "source": [
    "### Problem 1\n",
    "Write a program that accepts a string from user and counts the number of vowels."
   ]
  },
  {
   "cell_type": "code",
   "execution_count": 2,
   "id": "229d3cca",
   "metadata": {},
   "outputs": [
    {
     "name": "stdin",
     "output_type": "stream",
     "text": [
      "Enter the description :  qaz\n"
     ]
    },
    {
     "name": "stdout",
     "output_type": "stream",
     "text": [
      "a\n",
      "Total vowels is : 1\n"
     ]
    }
   ],
   "source": [
    "det = input(\"Enter the description : \")\n",
    "cnt = 0\n",
    "for i in det :\n",
    "    if i == \"a\" or i == \"e\" or i == \"i\" or i == \"o\" or i == \"u\" :\n",
    "        print(i)\n",
    "        cnt +=1\n",
    "print(\"Total vowels is :\",cnt)\n",
    "        "
   ]
  },
  {
   "cell_type": "markdown",
   "id": "362adb70",
   "metadata": {},
   "source": [
    "### Problem 2\n",
    "Write a program that displays the number of uppercase, lowercase, digits, and whitespaces."
   ]
  },
  {
   "cell_type": "code",
   "execution_count": 3,
   "id": "2b81835c",
   "metadata": {},
   "outputs": [
    {
     "name": "stdin",
     "output_type": "stream",
     "text": [
      "Enter the info :  i am na\n"
     ]
    },
    {
     "name": "stdout",
     "output_type": "stream",
     "text": [
      "Upper case letter is : 0\n",
      "Lower case letter is : 5\n",
      "digit numerical number  is : 0\n",
      "White spaces  is : 3\n"
     ]
    }
   ],
   "source": [
    "info = input(\"Enter the info :\")\n",
    "uppercase = 0\n",
    "lowercase = 0\n",
    "digitcount = 0\n",
    "spacecount = 0\n",
    "for i in info :\n",
    "    if i.isupper():\n",
    "        uppercase +=1\n",
    "    elif i.islower():\n",
    "        lowercase +=1\n",
    "    elif i.isdigit():\n",
    "        digitcount +=1\n",
    "    elif i.isspace():\n",
    "        spacecount +=1\n",
    "\n",
    "print(\"Upper case letter is :\",uppercase)\n",
    "print(\"Lower case letter is :\",lowercase)\n",
    "print(\"digit numerical number  is :\",digitcount)\n",
    "print(\"White spaces  is :\",spacecount)"
   ]
  },
  {
   "cell_type": "markdown",
   "id": "e851038a",
   "metadata": {},
   "source": [
    "### Problem 3\n",
    "Exchange first and last characters of a string."
   ]
  },
  {
   "cell_type": "code",
   "execution_count": null,
   "id": "772e563c",
   "metadata": {},
   "outputs": [],
   "source": [
    "\n",
    "def exchange_first_last(s):\n",
    "    if len(s) <= 1:\n",
    "        return s\n",
    "    return s[-1] + s[1:-1] + s[0]\n",
    "\n",
    "\n",
    "user_input = \"HELLO\"\n",
    "print(\"New string:\", exchange_first_last(user_input))\n"
   ]
  },
  {
   "cell_type": "markdown",
   "id": "2e515a29",
   "metadata": {},
   "source": [
    "### Problem 4\n",
    "Reverse a string."
   ]
  },
  {
   "cell_type": "code",
   "execution_count": null,
   "id": "c17cd9d3",
   "metadata": {},
   "outputs": [],
   "source": [
    "\n",
    "def reverse_string(s):\n",
    "    return s[::-1]\n",
    "\n",
    "# Example usage:\n",
    "user_input = \"EXAM\"\n",
    "print(\"Reversed string:\", reverse_string(user_input))\n"
   ]
  },
  {
   "cell_type": "markdown",
   "id": "7df60527",
   "metadata": {},
   "source": [
    "### Problem 5\n",
    "Shift string left by one position."
   ]
  },
  {
   "cell_type": "code",
   "execution_count": null,
   "id": "6b2baba7",
   "metadata": {},
   "outputs": [],
   "source": [
    "\n",
    "def shift_left(s):\n",
    "    if len(s) <= 1:\n",
    "        return s\n",
    "    return s[1:] + s[0]\n",
    "\n",
    "\n",
    "user_input = \"examination 2021\"\n",
    "print(\"Shifted string:\", shift_left(user_input))\n"
   ]
  },
  {
   "cell_type": "markdown",
   "id": "e837f6a5",
   "metadata": {},
   "source": [
    "### Problem 6\n",
    "Print initials without using split()."
   ]
  },
  {
   "cell_type": "code",
   "execution_count": null,
   "id": "c77c53f6",
   "metadata": {},
   "outputs": [],
   "source": [
    "\n",
    "def print_initials(name):\n",
    "    initials = \"\"\n",
    "    if name:\n",
    "        initials += name[0].upper() + \". \"\n",
    "    for i in range(1, len(name)):\n",
    "        if name[i-1] == \" \" and name[i] != \" \":\n",
    "            initials += name[i].upper() + \". \"\n",
    "    return initials.strip()\n",
    "\n",
    "\n",
    "user_input = \"Ajay Kumar Garg\"\n",
    "print(\"Initials:\", print_initials(user_input))\n"
   ]
  },
  {
   "cell_type": "markdown",
   "id": "fc216f39",
   "metadata": {},
   "source": [
    "### Problem 7\n",
    "Check if a string is a palindrome."
   ]
  },
  {
   "cell_type": "code",
   "execution_count": null,
   "id": "aa2a0468",
   "metadata": {},
   "outputs": [],
   "source": [
    "\n",
    "def is_palindrome(s):\n",
    "    return s == s[::-1]\n",
    "\n",
    "user_input = \"madam\"\n",
    "print(\"Is palindrome:\", is_palindrome(user_input))\n"
   ]
  },
  {
   "cell_type": "markdown",
   "id": "b9edbedb",
   "metadata": {},
   "source": [
    "### Problem 8\n",
    "Display the given shifting pattern."
   ]
  },
  {
   "cell_type": "code",
   "execution_count": null,
   "id": "c502eff7",
   "metadata": {},
   "outputs": [],
   "source": [
    "\n",
    "def display_shift_pattern(word):\n",
    "    for i in range(len(word)):\n",
    "        shifted = word[i:] + word[:i]\n",
    "        print(shifted)\n",
    "\n",
    "\n",
    "display_shift_pattern(\"SHIFT\")\n"
   ]
  },
  {
   "cell_type": "markdown",
   "id": "b697aad1",
   "metadata": {},
   "source": [
    "### Problem 9\n",
    "Password validation."
   ]
  },
  {
   "cell_type": "code",
   "execution_count": null,
   "id": "e49bbe85",
   "metadata": {},
   "outputs": [],
   "source": [
    "\n",
    "def validate_password(pwd):\n",
    "    if len(pwd) < 8:\n",
    "        return False\n",
    "    if not any(char.isupper() for char in pwd):\n",
    "        return False\n",
    "    if not any(char.islower() for char in pwd):\n",
    "        return False\n",
    "    if not any(char.isdigit() for char in pwd):\n",
    "        return False\n",
    "    return True\n",
    "\n",
    "\n",
    "user_password = \"Test2021\"\n",
    "print(\"Is valid password:\", validate_password(user_password))\n"
   ]
  }
 ],
 "metadata": {
  "kernelspec": {
   "display_name": "Python 3 (ipykernel)",
   "language": "python",
   "name": "python3"
  },
  "language_info": {
   "codemirror_mode": {
    "name": "ipython",
    "version": 3
   },
   "file_extension": ".py",
   "mimetype": "text/x-python",
   "name": "python",
   "nbconvert_exporter": "python",
   "pygments_lexer": "ipython3",
   "version": "3.12.7"
  }
 },
 "nbformat": 4,
 "nbformat_minor": 5
}
