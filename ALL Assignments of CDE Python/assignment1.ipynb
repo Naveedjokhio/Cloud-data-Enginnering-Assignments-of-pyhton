{
 "cells": [
  {
   "cell_type": "raw",
   "id": "eb67c935-6912-4a16-a5e7-a7a6ac1dca01",
   "metadata": {},
   "source": [
    "Print Your Name with your Father name and Date of birth using suitable escape sequence charactor"
   ]
  },
  {
   "cell_type": "code",
   "execution_count": 12,
   "id": "06956f8b-194f-45b9-b6ae-58e249eec3c5",
   "metadata": {},
   "outputs": [
    {
     "name": "stdout",
     "output_type": "stream",
     "text": [
      "Name :\tNaveed ahmed jokhio \n",
      "Father name :\tAbdul Waheed jokhio \n",
      "Date of birth :\t21\u00054 \n"
     ]
    }
   ],
   "source": [
    "print(\"Name :\\tNaveed ahmed jokhio \")\n",
    "print(\"Father name :\\tAbdul Waheed jokhio \")\n",
    "print(\"Date of birth :\\t21\\05\\2004 \")"
   ]
  },
  {
   "cell_type": "raw",
   "id": "8c6e9c4f-1769-41f5-870b-6e2f4ae1602b",
   "metadata": {},
   "source": [
    "Write your small bio using variables and print it using print function"
   ]
  },
  {
   "cell_type": "code",
   "execution_count": 9,
   "id": "cc484abc-07d0-49f9-abb3-812a68152eaf",
   "metadata": {},
   "outputs": [
    {
     "name": "stdout",
     "output_type": "stream",
     "text": [
      "I am Naveed jokhio a student of 'CDE' Cloud data enginnering at Saylani zaitoon i.t park\n",
      "And Student of Sir Qasim \n"
     ]
    }
   ],
   "source": [
    "bio = \"\"\"I am Naveed jokhio a student of 'CDE' Cloud data enginnering at Saylani zaitoon i.t park\n",
    "And Student of Sir Qasim \"\"\"\n",
    "print(bio)"
   ]
  },
  {
   "cell_type": "raw",
   "id": "bfba9ee8-104f-4474-a4eb-bf73cf3c44c5",
   "metadata": {},
   "source": [
    "Write a program in which use all the operators we can use in Python"
   ]
  },
  {
   "cell_type": "code",
   "execution_count": 11,
   "id": "5b36935b-f16c-4dab-af9b-e0bf2ef8cde8",
   "metadata": {},
   "outputs": [
    {
     "name": "stdout",
     "output_type": "stream",
     "text": [
      "14\n",
      "6\n",
      "2.5\n",
      "40\n",
      "2\n",
      "100\n",
      "2\n"
     ]
    }
   ],
   "source": [
    "add = 10+4\n",
    "sub = 10-4\n",
    "div = 10/4\n",
    "mul = 10*4\n",
    "modulas = 10%4\n",
    "exponentation = 10**2 #10*10 = 100\n",
    "floor_division = 10//4 # it will give answers in integers not in floating values \n",
    "\n",
    "print(add)\n",
    "print(sub)\n",
    "print(div)\n",
    "print(mul)\n",
    "print(modulas)\n",
    "print(exponentation)\n",
    "print(floor_division)"
   ]
  },
  {
   "cell_type": "raw",
   "id": "e8ab653b-0d69-4a83-bdb0-b6a8f214e3b1",
   "metadata": {},
   "source": [
    "Completes the following steps of small task:\n",
    "Mention Marks of English , Islamiat and Maths out of 100 in 3 different variables\n",
    "Mention Variable of Total Marks and assign 300 to it\n",
    "Calculate Percentage"
   ]
  },
  {
   "cell_type": "code",
   "execution_count": 14,
   "id": "6bda2e09-6a34-4b78-a0e4-f86b877dfab2",
   "metadata": {},
   "outputs": [
    {
     "name": "stdout",
     "output_type": "stream",
     "text": [
      "73.66666666666667\n"
     ]
    }
   ],
   "source": [
    "English_Marks = 88\n",
    "Islamiat_Marks = 67\n",
    "Math = 66 \n",
    "Total_marks = 300 \n",
    "percentage = ((English_Marks + Islamiat_Marks + Math )/Total_marks)*100\n",
    "print(percentage)"
   ]
  },
  {
   "cell_type": "markdown",
   "id": "c96df196-5f2e-4945-a0e9-f5a6fabec4ea",
   "metadata": {},
   "source": [
    "# Part -2 Python Basics (Conditional Statements)"
   ]
  },
  {
   "cell_type": "raw",
   "id": "736b4541-628c-4060-885d-70bb30e134fe",
   "metadata": {},
   "source": [
    "A company decided to give bonus of 5% to employee if his/her year of service is more than 5 years. Ask user for their salary\n",
    "and year of service and print the net bonus amount."
   ]
  },
  {
   "cell_type": "code",
   "execution_count": 49,
   "id": "e7bd9fa4-ea18-4c43-a8b4-cd6824806ec0",
   "metadata": {},
   "outputs": [
    {
     "name": "stdin",
     "output_type": "stream",
     "text": [
      "Tell me your Salary :  50000\n",
      "Tell me year of service :  6\n"
     ]
    },
    {
     "name": "stdout",
     "output_type": "stream",
     "text": [
      "Your Bonus = :  2500.0\n"
     ]
    }
   ],
   "source": [
    "Salary = int(input(\"Tell me your Salary : \"))\n",
    "yearofService = int(input(\"Tell me year of service : \"))\n",
    "if(yearofService > 5):\n",
    "    print(\"Your Bonus = : \",(5/100*Salary))\n",
    "else:\n",
    "\n",
    "     print(\"You are not eligible for bonus as you have less service years.\")"
   ]
  },
  {
   "cell_type": "markdown",
   "id": "2897681c-ddcc-4097-bd32-2b41bb7656e0",
   "metadata": {},
   "source": [
    "Write a program to check whether a person is eligible for voting or not. (accept age from user)\n",
    "if age is greater than 17 eligible otherwise not eligible"
   ]
  },
  {
   "cell_type": "code",
   "execution_count": 25,
   "id": "3dfdf054-61f4-4366-884b-ba777475766c",
   "metadata": {},
   "outputs": [
    {
     "name": "stdin",
     "output_type": "stream",
     "text": [
      "Tell me your age :  178\n"
     ]
    },
    {
     "name": "stdout",
     "output_type": "stream",
     "text": [
      "you are eligible for voting \n"
     ]
    }
   ],
   "source": [
    "User_age = int(input(\"Tell me your age : \"))\n",
    "if(User_age > 17):\n",
    "    print(\"you are eligible for voting \")\n",
    "else :\n",
    "    print(\"you are not eligible fo voting \") "
   ]
  },
  {
   "cell_type": "raw",
   "id": "7f594486-b70d-4e6e-9240-f54be8fc2a52",
   "metadata": {},
   "source": [
    "Write a program to check whether a number entered by user is even or odd."
   ]
  },
  {
   "cell_type": "code",
   "execution_count": 37,
   "id": "bfa0745a-a6f3-49d4-b099-68d6e70c2dd1",
   "metadata": {},
   "outputs": [
    {
     "name": "stdin",
     "output_type": "stream",
     "text": [
      "Enter the number you want to check :  -100\n"
     ]
    },
    {
     "name": "stdout",
     "output_type": "stream",
     "text": [
      "enter the correct number or it is less than 0 \n"
     ]
    }
   ],
   "source": [
    "Num = int(input(\"Enter the number you want to check : \"))\n",
    "if Num<=0:\n",
    "    print(\"enter the correct number or it is less than 0 \")\n",
    "elif Num%2==0:\n",
    "    print(\"Your number is even \")\n",
    "else :\n",
    "    print(\"Your number is Odd \")"
   ]
  },
  {
   "cell_type": "raw",
   "id": "a3a57428-37a3-46ca-a26b-179584f727bd",
   "metadata": {},
   "source": [
    "Write a program to check whether a number is divisible by 7 or not. Show Answer"
   ]
  },
  {
   "cell_type": "code",
   "execution_count": 42,
   "id": "a61004f9-f9d0-4bcb-916d-f11af198d6f0",
   "metadata": {},
   "outputs": [
    {
     "name": "stdin",
     "output_type": "stream",
     "text": [
      "Enter the number :  21\n"
     ]
    },
    {
     "name": "stdout",
     "output_type": "stream",
     "text": [
      "This number is divisible of 7 and num is :  21\n"
     ]
    }
   ],
   "source": [
    "num = int(input(\"Enter the number : \"))\n",
    "if num%7==0:\n",
    "    print(\"This number is divisible of 7 and num is : \" ,num)\n",
    "else :\n",
    "    print(\"This number is not divisible of 7 and num is : \",num)"
   ]
  },
  {
   "cell_type": "raw",
   "id": "f0c99818-1a33-46f9-840e-e68d0c435474",
   "metadata": {},
   "source": [
    "Write a program to display \"Hello\" if a number entered by user is a multiple of five , otherwise print \"Bye\"."
   ]
  },
  {
   "cell_type": "code",
   "execution_count": 62,
   "id": "a9baad6c-5209-4000-a415-4cb0f3cf2c58",
   "metadata": {},
   "outputs": [
    {
     "name": "stdin",
     "output_type": "stream",
     "text": [
      "Ente the number : 23\n"
     ]
    },
    {
     "name": "stdout",
     "output_type": "stream",
     "text": [
      "Bye\n"
     ]
    }
   ],
   "source": [
    "User_num = int(input(\"Ente the number :\"))\n",
    "if User_num%5==0 :\n",
    "    print(\"Hello\")\n",
    "else:\n",
    "    print(\"Bye\")"
   ]
  },
  {
   "cell_type": "raw",
   "id": "bae492e3-bb4c-445b-9217-1dbfe77c625d",
   "metadata": {},
   "source": [
    "Write a program to display the last digit of a number."
   ]
  },
  {
   "cell_type": "code",
   "execution_count": 65,
   "id": "a4028fd9-3d71-482f-a557-86defa167ffd",
   "metadata": {},
   "outputs": [
    {
     "name": "stdin",
     "output_type": "stream",
     "text": [
      "Enter the number :  100050\n"
     ]
    },
    {
     "name": "stdout",
     "output_type": "stream",
     "text": [
      "Last Digit is :  0\n"
     ]
    }
   ],
   "source": [
    "num = int(input(\"Enter the number : \"))\n",
    "last_digit = num%10\n",
    "print(\"Last Digit is : \", last_digit)"
   ]
  },
  {
   "cell_type": "raw",
   "id": "d55d6126-2757-4d1d-b86c-b9ed6075c334",
   "metadata": {},
   "source": [
    "Take values of length and breadth of a rectangle from user and print if it is square or rectangle."
   ]
  },
  {
   "cell_type": "code",
   "execution_count": 54,
   "id": "7a9db983-ebcf-48e2-a29f-8b303064615d",
   "metadata": {},
   "outputs": [
    {
     "name": "stdin",
     "output_type": "stream",
     "text": [
      "Enter the length :  23\n",
      "Enter the Breadth :  22\n"
     ]
    },
    {
     "name": "stdout",
     "output_type": "stream",
     "text": [
      "it is a rectangle \n"
     ]
    }
   ],
   "source": [
    "length = int(input(\"Enter the length : \"))\n",
    "Breadth = int(input(\"Enter the Breadth : \"))\n",
    "if length == Breadth :\n",
    "    print(\"it is a square \")\n",
    "else:\n",
    "    print(\"it is a rectangle \") "
   ]
  },
  {
   "cell_type": "raw",
   "id": "9dc0e475-c362-4260-88d6-9f21008a8203",
   "metadata": {},
   "source": [
    "Take two int values from user and print greatest among them."
   ]
  },
  {
   "cell_type": "code",
   "execution_count": 57,
   "id": "d2bb5af6-a7b0-4d56-a7cb-5b662e3d0a14",
   "metadata": {},
   "outputs": [
    {
     "name": "stdin",
     "output_type": "stream",
     "text": [
      "Enter the num1 :  123\n",
      "Enter the num2 :  124\n"
     ]
    },
    {
     "name": "stdout",
     "output_type": "stream",
     "text": [
      "Num2 is the greatest :  124\n"
     ]
    }
   ],
   "source": [
    "num1 = int(input(\"Enter the num1 : \"))\n",
    "num2 = int(input(\"Enter the num2 : \"))\n",
    "if num1>num2:\n",
    "    print(\"Num1 is greatest : \",num1)\n",
    "else:\n",
    "    print(\"Num2 is the greatest : \",num2)"
   ]
  },
  {
   "cell_type": "raw",
   "id": "528df037-072b-4cdc-b1bd-71e476bad12a",
   "metadata": {},
   "source": [
    "A shop will give discount of 10% if the cost of purchased quantity is more than 1000. Ask user for quantity Suppose, one unit will cost 100. Judge and print total cost for user."
   ]
  },
  {
   "cell_type": "code",
   "execution_count": 60,
   "id": "1530cf26-3404-48af-b1eb-2d32bfbf7ba6",
   "metadata": {},
   "outputs": [
    {
     "name": "stdin",
     "output_type": "stream",
     "text": [
      "Tell me the quantity ,how many u want to purchase :  11\n"
     ]
    },
    {
     "name": "stdout",
     "output_type": "stream",
     "text": [
      "you got a 10% of discount :  110.0\n"
     ]
    }
   ],
   "source": [
    "Quantity = int(input(\"Tell me the quantity ,how many u want to purchase : \"))\n",
    "PriceOfItem = 100\n",
    "totalPrice = Quantity*100\n",
    "if totalPrice > 1000:\n",
    "    print(\"you got a 10% of discount : \",10/100*totalPrice)\n",
    "else :\n",
    "    print(\"thnQ for purchasing \") \n"
   ]
  },
  {
   "cell_type": "raw",
   "id": "e4545ce2-77c2-485c-9b0d-fa8e412cc3e1",
   "metadata": {},
   "source": [
    "A school has following rules for grading system:\n",
    "a. Below 25 - F\n",
    "b. 25 to 45 - E\n",
    "c. 45 to 50 - D\n",
    "d. 50 to 60 - C\n",
    "e. 60 to 80 - B\n",
    "f. Above 80 - A\n",
    "Ask user to enter marks and print the corresponding grade."
   ]
  },
  {
   "cell_type": "code",
   "execution_count": 63,
   "id": "2c7444db-d086-43e0-b1e7-48eee222eac7",
   "metadata": {},
   "outputs": [
    {
     "name": "stdin",
     "output_type": "stream",
     "text": [
      "Enter your Marks :  56\n"
     ]
    },
    {
     "name": "stdout",
     "output_type": "stream",
     "text": [
      "Your grade is 'C' \n"
     ]
    }
   ],
   "source": [
    "Marks = int(input(\"Enter your Marks : \"))\n",
    "if Marks > 80 and Marks<=100:\n",
    "    print(\"Your grade is 'A' \")\n",
    "elif Marks >60 and Marks <=80 :\n",
    "    print(\"Your grade is 'B' \")\n",
    "elif Marks > 50 and Marks <=60 :\n",
    "    print(\"Your grade is 'C' \")\n",
    "elif Marks > 45 and Marks <=50 :\n",
    "    print(\"Your grade is 'D' \")\n",
    "elif Marks > 25 and Marks <=45 :\n",
    "    print(\"Your grade is 'E' \")\n",
    "elif Marks < 25 :\n",
    "    print(\"Your grade is 'F' \")\n",
    "    \n",
    "    "
   ]
  },
  {
   "cell_type": "raw",
   "id": "e0280a8a-4cfd-4319-aac6-4dd14f779551",
   "metadata": {},
   "source": [
    "A student will not be allowed to sit in exam if his/her attendence is less than 75%.\n",
    "Take following input from user\n",
    "Number of classes held\n",
    "Number of classes attended.\n",
    "And print percentage of class attended\n",
    "Is student is allowed to sit in exam or not."
   ]
  },
  {
   "cell_type": "code",
   "execution_count": 69,
   "id": "5bcf74cc-b2f6-4838-814c-43c973c4bc4d",
   "metadata": {},
   "outputs": [
    {
     "name": "stdin",
     "output_type": "stream",
     "text": [
      "Enter the  number of classes held :  1\n",
      "Enter the  number of classes  attended :  1\n"
     ]
    },
    {
     "name": "stdout",
     "output_type": "stream",
     "text": [
      "you are allowed to sit in exam and your attendance percentage is :  100.0\n"
     ]
    }
   ],
   "source": [
    "NumberoOfHeld = int(input(\"Enter the  number of classes held : \")) \n",
    "NumberoOfAttended = int(input(\"Enter the  number of classes  attended : \"))\n",
    "Percentage = NumberoOfAttended/NumberoOfHeld*100\n",
    "if Percentage > 75 :\n",
    "    print(\"you are allowed to sit in exam and your attendance percentage is : \",Percentage)\n",
    "else :\n",
    "    print(\"You are not allowed to sit in the exam your attendance pecentage is less than 75 \",Percentage)  "
   ]
  },
  {
   "cell_type": "raw",
   "id": "20b46c1c-2a48-4d0c-89c2-1165e882087d",
   "metadata": {},
   "source": [
    "Modify the above question to allow student to sit if he/she has medical cause.\n",
    "Ask user if he/she has medical cause or not ( 'Y' or 'N' ) and print accordingly."
   ]
  },
  {
   "cell_type": "code",
   "execution_count": 70,
   "id": "918bad58-2815-4baf-8467-b322c22a2d59",
   "metadata": {},
   "outputs": [
    {
     "name": "stdin",
     "output_type": "stream",
     "text": [
      "Enter your attendance percentage :  76\n",
      "Do you have a medical cause ? (Y/N):  y\n"
     ]
    },
    {
     "name": "stdout",
     "output_type": "stream",
     "text": [
      "Allowed to sit in exam\n"
     ]
    }
   ],
   "source": [
    "attendance = int(input(\"Enter your attendance percentage : \"))\n",
    "medical = input(\"Do you have a medical cause ? (Y/N): \")\n",
    "\n",
    "if attendance>=75 or medical.upper() == 'Y':\n",
    "    print(\"Allowed to sit in exam\")\n",
    "else:\n",
    "    print(\"Not allowed to sit in exam\")\n"
   ]
  },
  {
   "cell_type": "raw",
   "id": "d6081a42-8475-4c72-aeb5-927e334f4eb2",
   "metadata": {},
   "source": [
    "Write a program to check if a year is leap year or not.\n",
    "If a year is divisible by 4 then it is leap year but if the year is century year like 2000, 1900, 2100 then it must be divisible by 400."
   ]
  },
  {
   "cell_type": "code",
   "execution_count": 75,
   "id": "59aa3da5-7b6e-4451-8914-fd6840f97d3e",
   "metadata": {},
   "outputs": [
    {
     "name": "stdin",
     "output_type": "stream",
     "text": [
      "Ente the year you want to check :  2000\n"
     ]
    },
    {
     "name": "stdout",
     "output_type": "stream",
     "text": [
      "Your Year is a Leap Year \n"
     ]
    }
   ],
   "source": [
    "Year = int(input(\"Ente the year you want to check : \"))\n",
    "if ((Year%400==0) or (Year%4==0 and Year%100 != 0 )):\n",
    "    print(\"Your Year is a Leap Year \")\n",
    "else :\n",
    "    print(\"Your Year is not a Leap Year \" )"
   ]
  },
  {
   "cell_type": "raw",
   "id": "4f85d7e5-d74f-49b1-b376-b61c6e4757ea",
   "metadata": {},
   "source": [
    "Ask user to enter age, gender ( M or F ), marital status ( Y or N ) and then using following rules print their place of service.\n",
    "if employee is female, then she will work only in urban areas.\n",
    "if employee is a male and age is in between 20 to 40 then he may work in anywhere\n",
    "if employee is male and age is in between 40 t0 60 then he will work in urban areas only.\n",
    "And any other input of age should print \"ERROR\""
   ]
  },
  {
   "cell_type": "code",
   "execution_count": 82,
   "id": "31daf3de-d9eb-4e6f-8deb-b31e98ead6e6",
   "metadata": {},
   "outputs": [
    {
     "name": "stdin",
     "output_type": "stream",
     "text": [
      "Enter the age :  50\n",
      "'M' or 'F' :  m\n",
      "'Yes' or 'No' : no\n"
     ]
    },
    {
     "name": "stdout",
     "output_type": "stream",
     "text": [
      " U will work in urban areas only \n"
     ]
    }
   ],
   "source": [
    "age = int(input(\"Enter the age : \"))\n",
    "gender = input(\"'M' or 'F' : \")\n",
    "Martial_status = input(\"'Yes' or 'No' :\")\n",
    "if(gender.upper() == \"F\"):\n",
    "    print(\"you will work only in urban areas \")\n",
    "elif (gender.upper() == \"M\"):\n",
    "    if(20<= age <= 40):\n",
    "        print(\"U may work in anywhere \")\n",
    "    elif(age > 40 and age <60):\n",
    "        print(\" U will work in urban areas only \")\n",
    "else :\n",
    "    print(\"ERROR\")\n",
    "    "
   ]
  },
  {
   "cell_type": "raw",
   "id": "20a59afd-292f-43f3-9272-676f51c64b89",
   "metadata": {},
   "source": [
    "Write a program to calculate the electricity bill (accept number of unit from user) according to the following criteria : Unit Price\n",
    "uptp 100 units no charge Next 200 units Rs 5 per unit After 200 units Rs 10 per unit (For example if input unit is 350 than total bill amount is Rs.3500 (For example if input unit is 97 than total bill amount is Rs.0 (For example if input unit is 150 than total bill amount is Rs.750\n",
    "Take input of age of 3 people by user and determine oldest and youngest among them."
   ]
  },
  {
   "cell_type": "code",
   "execution_count": 3,
   "id": "f254f8d8-df6a-4cfe-9feb-e135f6406f7a",
   "metadata": {},
   "outputs": [
    {
     "name": "stdin",
     "output_type": "stream",
     "text": [
      "Tell me Your units :  150\n"
     ]
    },
    {
     "name": "stdout",
     "output_type": "stream",
     "text": [
      "your bill is : 750\n"
     ]
    }
   ],
   "source": [
    "units = int(input(\"Tell me Your units : \"))\n",
    "if units <=100 :\n",
    "    print(\"There is no bill till 100 units so no charges for it \")\n",
    "elif units >=100 and units <=200 :\n",
    "    print(\"your bill is :\",units*5)\n",
    "elif units > 200 :\n",
    "    print(\"your bill would be : \",units*10)"
   ]
  },
  {
   "cell_type": "raw",
   "id": "e7560085-4155-443c-a567-f4b738d11c51",
   "metadata": {},
   "source": [
    "Take input of age of 3 people by user and determine oldest and youngest among them."
   ]
  },
  {
   "cell_type": "markdown",
   "id": "1f9a2105-90d5-43aa-91b8-0b7887a2fe45",
   "metadata": {},
   "source": [
    "# First Method :"
   ]
  },
  {
   "cell_type": "code",
   "execution_count": null,
   "id": "6a870661-e04a-4cd0-ba6a-b3031e15b47b",
   "metadata": {},
   "outputs": [],
   "source": [
    "# finding the oldest now \n",
    "Babar_age = int(input(\" BabarTell me the age : \"))\n",
    "Rizwan_age = int(input(\" RizwaTell me the age : \"))\n",
    "Shaheen_age = int(input(\"Tell me the age : \"))\n",
    "if(Babar_age > Rizwan_age and Babar_age > Shaheen_age):\n",
    "    print(\"Babar is the oldest and his age is : \",Babar_age)\n",
    "elif(Rizwan_age>Babar_age  and Rizwan_age > Shaheen_age ):\n",
    "    print(\"Rizwan is the Oldest and his age is : \",Rizwan_age)\n",
    "else :\n",
    "    print(\"Shaheen is the oldest and his age is : \",Shaheen_age)\n",
    "\n",
    "# finding the youngest now \n",
    "if(Babar_age < Rizwan_age and Babar_age < Shaheen_age):\n",
    "    print(\"Babar is the Youngest and his age is : \",Babar_age)\n",
    "elif(Rizwan_age<Babar_age  and Rizwan_age < Shaheen_age ):\n",
    "    print(\"Rizwan is the Youngest and his age is : \",Rizwan_age)\n",
    "else :\n",
    "    print(\"Shaheen is the Youngest and his age is : \",Shaheen_age)"
   ]
  },
  {
   "cell_type": "markdown",
   "id": "43f67e84-9126-466c-bb53-fd5a73de6517",
   "metadata": {},
   "source": [
    "# Second Method :"
   ]
  },
  {
   "cell_type": "code",
   "execution_count": 2,
   "id": "c88ecb7a-0e60-4e3b-af72-9dd3279d3166",
   "metadata": {},
   "outputs": [
    {
     "name": "stdin",
     "output_type": "stream",
     "text": [
      " BabarTell me the age :  56\n",
      " RizwaTell me the age :  67\n",
      "Tell me the age :  88\n"
     ]
    },
    {
     "name": "stdout",
     "output_type": "stream",
     "text": [
      "The oldest age is 88 Year old \n"
     ]
    }
   ],
   "source": [
    "Babar_age = int(input(\" BabarTell me the age : \"))\n",
    "Rizwan_age = int(input(\" RizwaTell me the age : \"))\n",
    "Shaheen_age = int(input(\"Tell me the age : \"))\n",
    "oldest = max(Babar_age ,Rizwan_age ,Shaheen_age) \n",
    "youngest = min(Babar_age ,Rizwan_age ,Shaheen_age)\n",
    "print(f\"The oldest age is {oldest} Year old \")\n",
    "print(f\"The youngest age is {youngest} Year old \")"
   ]
  },
  {
   "cell_type": "code",
   "execution_count": 3,
   "id": "f64ccb50-d09e-479d-9480-cfd93af59bca",
   "metadata": {},
   "outputs": [
    {
     "name": "stdin",
     "output_type": "stream",
     "text": [
      " BabarTell me the age :  56\n",
      " RizwaTell me the age :  6733\n",
      "Tell me the age :  33\n"
     ]
    },
    {
     "name": "stdout",
     "output_type": "stream",
     "text": [
      "Rizwan is the Oldest and his age is :  6733\n",
      "Shaheen is the Youngest and his age is :  33\n"
     ]
    }
   ],
   "source": []
  },
  {
   "cell_type": "code",
   "execution_count": null,
   "id": "56e3fece-ccd1-4d47-8050-c0df265396dc",
   "metadata": {},
   "outputs": [],
   "source": []
  }
 ],
 "metadata": {
  "kernelspec": {
   "display_name": "Python 3 (ipykernel)",
   "language": "python",
   "name": "python3"
  },
  "language_info": {
   "codemirror_mode": {
    "name": "ipython",
    "version": 3
   },
   "file_extension": ".py",
   "mimetype": "text/x-python",
   "name": "python",
   "nbconvert_exporter": "python",
   "pygments_lexer": "ipython3",
   "version": "3.12.7"
  }
 },
 "nbformat": 4,
 "nbformat_minor": 5
}
